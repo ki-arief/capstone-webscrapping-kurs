{
 "cells": [
  {
   "cell_type": "markdown",
   "metadata": {},
   "source": [
    "# Capstone Webscrapping using BeautifulSoup\n",
    "\n",
    "This notebook contains guidances & tasks on the data processing for the application\n",
    "\n",
    "## background\n",
    "\n",
    "Banyak data, yang memuat berbagai informasi yang kita inginkan, yang tersedia di berbagai situs. Data tersebut dapat diambil dan dianalisis lebih lanjut sesuai dengan kebutuhan. Data tersebut diambil menggunakan salah satu library dalam Python yaitu BeautifulSoup.  \n",
    "\n",
    "Untuk Capstone Project ini, data yang akan diambil yaitu kurs $ ke Rp untuk periode Bulan Juni 2023 s.d. Desember 2023. data yang diambil yaitu berupa tabel yang berisi kolom 'tanggal' dan 'kurs'. Setelah mendapatkan hasil webscrapping dari situs ini kemudian akan dilakukan proses data cleaning dan visualisasi.\n",
    "\n",
    "## Requesting the Data and Creating a BeautifulSoup\n",
    "\n",
    "Let's begin with requesting the web from the site with `get` method."
   ]
  },
  {
   "cell_type": "code",
   "execution_count": 16,
   "metadata": {
    "ExecuteTime": {
     "end_time": "2020-01-13T05:12:23.275508Z",
     "start_time": "2020-01-13T05:12:20.009898Z"
    }
   },
   "outputs": [],
   "source": [
    "import requests\n",
    "\n",
    "url_get = requests.get('https://www.exchange-rates.org/history/IDR/USD/T')"
   ]
  },
  {
   "cell_type": "markdown",
   "metadata": {},
   "source": [
    "To visualize what exactly you get from the `request.get`, we can use .content so ee what we exactly get, in here i slice it so it won't make our screen full of the html we get from the page. You can delete the slicing if you want to see what we fully get."
   ]
  },
  {
   "cell_type": "code",
   "execution_count": 17,
   "metadata": {
    "ExecuteTime": {
     "end_time": "2020-01-13T05:12:23.290648Z",
     "start_time": "2020-01-13T05:12:23.277650Z"
    }
   },
   "outputs": [
    {
     "data": {
      "text/plain": [
       "b'!DOCTYPE html>\\r\\n<!--[if lt IE 9]>\\r\\n<html class=\"no-js ie8 oldie\" lang=\"en\" xml:lang=\\'en\\'>\\r\\n<![endif]-->\\r\\n<!--[if gt IE 8]><!--><html class=\"no-js\" lang=\"en\" xml:lang=\\'en\\'><!--<![endif]-->\\r\\n<head>\\r\\n<title>USD to IDR exchange rate history</title>\\r\\n<meta http-equiv=\"X-UA-Compatible\" content=\"IE=edge\">\\r\\n<meta name=\"viewport\" content=\"width=device-width, initial-scale=1, maximum-scale=5\">\\r\\n<meta charset=\"utf-8\" /><meta http-equiv=\"Content-Type\" content=\"text/html; charset=utf-8\" />\\r\\n<base href=\"http'"
      ]
     },
     "execution_count": 17,
     "metadata": {},
     "output_type": "execute_result"
    }
   ],
   "source": [
    "url_get.content[1:500]"
   ]
  },
  {
   "cell_type": "markdown",
   "metadata": {},
   "source": [
    "As we can see we get a very unstructured and complex html, which actually contains the codes needed to show the webpages on your web browser. But we as human still confused what and where we can use that piece of code, so here where we use the beautifulsoup. Beautiful soup class will result a beautifulsoup object. Beautiful Soup transforms a complex HTML document into a complex tree of Python objects. \n",
    "\n",
    "Let's make Beautiful soup object and feel free to explore the object here."
   ]
  },
  {
   "cell_type": "code",
   "execution_count": 18,
   "metadata": {
    "ExecuteTime": {
     "end_time": "2020-01-13T05:12:23.808122Z",
     "start_time": "2020-01-13T05:12:23.292610Z"
    }
   },
   "outputs": [
    {
     "name": "stdout",
     "output_type": "stream",
     "text": [
      "<class 'bs4.BeautifulSoup'>\n"
     ]
    }
   ],
   "source": [
    "from bs4 import BeautifulSoup \n",
    "\n",
    "soup = BeautifulSoup(url_get.content,\"html.parser\")\n",
    "print(type(soup))"
   ]
  },
  {
   "cell_type": "code",
   "execution_count": 19,
   "metadata": {},
   "outputs": [
    {
     "name": "stdout",
     "output_type": "stream",
     "text": [
      "<!DOCTYPE html>\n",
      "<!--[if lt IE 9]>\n",
      "<html class=\"no-js ie8 oldie\" lang=\"en\" xml:lang='en'>\n",
      "<![endif]-->\n",
      "<!--[if gt IE 8]><!-->\n",
      "<html class=\"no-js\" lang=\"en\" xml:lang=\"en\">\n",
      " <!--<![endif]-->\n",
      " <head>\n",
      "  <title>\n",
      "   USD to IDR exchange rate history\n",
      "  </title>\n",
      "  <meta content=\"IE=edge\" http-equiv=\"X-UA-Compatible\"/>\n",
      "  <meta content=\"width=device-width, initial-scale=1, maximum-scale=5\" name=\"viewport\"/>\n",
      "  <meta charset=\"utf-8\">\n",
      "   <meta content=\"text/html; charset=utf-8\" http-equiv=\"Content-Type\">\n",
      "   \n"
     ]
    }
   ],
   "source": [
    "print(soup.prettify()[:500])"
   ]
  },
  {
   "cell_type": "markdown",
   "metadata": {},
   "source": [
    "## Finding the right key to scrap the data & Extracting the right information"
   ]
  },
  {
   "cell_type": "markdown",
   "metadata": {},
   "source": [
    "Find the key and put the key into the `.find()` Put all the exploring the right key at this cell. \n",
    "\n",
    "Dari laman kurs tersebut, dengan menggunakan `.find()`, ditemukan key dimana lokasi tabel yang akan di-scrapping yaitu di kode html `tbody`. \n"
   ]
  },
  {
   "cell_type": "code",
   "execution_count": 20,
   "metadata": {
    "ExecuteTime": {
     "end_time": "2020-01-13T05:12:23.878904Z",
     "start_time": "2020-01-13T05:12:23.854974Z"
    }
   },
   "outputs": [
    {
     "name": "stdout",
     "output_type": "stream",
     "text": [
      "tbody>\n",
      " <tr>\n",
      "  <td>\n",
      "   <a class=\"w\" href=\"/exchange-rate-history/usd-idr-2023-12-15\">\n",
      "    December 15, 2023\n",
      "   </a>\n",
      "   <a class=\"n\" href=\"/exchange-rate-history/usd-idr-2023-12-15\">\n",
      "    2023-12-15\n",
      "   </a>\n",
      "  </td>\n",
      "  <td>\n",
      "   <span class=\"w\">\n",
      "    <span class=\"nowrap\">\n",
      "     <span class=\"currencySymbol\">\n",
      "      $\n",
      "     </span>\n",
      "     1 =\n",
      "    </span>\n",
      "    <span class=\"nowrap\">\n",
      "     <span class=\"currencySymbol\">\n",
      "      Rp\n",
      "     </span>\n",
      "     15,529\n",
      "    </span>\n",
      "   </span>\n",
      "   <span class=\"n\">\n",
      "    <span class=\"n\n"
     ]
    }
   ],
   "source": [
    "table = soup.find('tbody')\n",
    "print(table.prettify()[1:500])"
   ]
  },
  {
   "cell_type": "markdown",
   "metadata": {},
   "source": [
    "Finding row length."
   ]
  },
  {
   "cell_type": "code",
   "execution_count": 21,
   "metadata": {},
   "outputs": [
    {
     "data": {
      "text/plain": [
       "130"
      ]
     },
     "execution_count": 21,
     "metadata": {},
     "output_type": "execute_result"
    }
   ],
   "source": [
    "table_exc_rates = table.find_all('a', attrs= {'class':'w'} )\n",
    "#table_exc_rates\n",
    "row_length = len(table_exc_rates)\n",
    "row_length"
   ]
  },
  {
   "cell_type": "markdown",
   "metadata": {},
   "source": [
    "Do the scrapping process here (please change this markdown with your explanation)"
   ]
  },
  {
   "cell_type": "code",
   "execution_count": 22,
   "metadata": {
    "ExecuteTime": {
     "end_time": "2020-01-13T05:12:24.008256Z",
     "start_time": "2020-01-13T05:12:23.980358Z"
    }
   },
   "outputs": [
    {
     "data": {
      "text/plain": [
       "[('2023-12-15', '$1 = Rp15,529'),\n",
       " ('2023-12-14', '$1 = Rp15,476'),\n",
       " ('2023-12-13', '$1 = Rp15,360'),\n",
       " ('2023-12-12', '$1 = Rp15,576'),\n",
       " ('2023-12-11', '$1 = Rp15,653'),\n",
       " ('2023-12-8', '$1 = Rp15,573'),\n",
       " ('2023-12-7', '$1 = Rp15,507'),\n",
       " ('2023-12-6', '$1 = Rp15,514'),\n",
       " ('2023-12-5', '$1 = Rp15,463'),\n",
       " ('2023-12-4', '$1 = Rp15,485'),\n",
       " ('2023-12-1', '$1 = Rp15,413'),\n",
       " ('2023-11-30', '$1 = Rp15,559'),\n",
       " ('2023-11-29', '$1 = Rp15,459'),\n",
       " ('2023-11-28', '$1 = Rp15,352'),\n",
       " ('2023-11-27', '$1 = Rp15,505'),\n",
       " ('2023-11-24', '$1 = Rp15,540'),\n",
       " ('2023-11-23', '$1 = Rp15,633'),\n",
       " ('2023-11-22', '$1 = Rp15,656'),\n",
       " ('2023-11-21', '$1 = Rp15,517'),\n",
       " ('2023-11-20', '$1 = Rp15,389'),\n",
       " ('2023-11-17', '$1 = Rp15,424'),\n",
       " ('2023-11-16', '$1 = Rp15,484'),\n",
       " ('2023-11-15', '$1 = Rp15,519'),\n",
       " ('2023-11-14', '$1 = Rp15,459'),\n",
       " ('2023-11-13', '$1 = Rp15,683'),\n",
       " ('2023-11-10', '$1 = Rp15,694'),\n",
       " ('2023-11-9', '$1 = Rp15,715'),\n",
       " ('2023-11-8', '$1 = Rp15,625'),\n",
       " ('2023-11-7', '$1 = Rp15,651'),\n",
       " ('2023-11-6', '$1 = Rp15,577'),\n",
       " ('2023-11-3', '$1 = Rp15,589'),\n",
       " ('2023-11-2', '$1 = Rp15,852'),\n",
       " ('2023-11-1', '$1 = Rp15,899'),\n",
       " ('2023-10-31', '$1 = Rp15,919'),\n",
       " ('2023-10-30', '$1 = Rp15,854'),\n",
       " ('2023-10-27', '$1 = Rp15,911'),\n",
       " ('2023-10-26', '$1 = Rp15,927'),\n",
       " ('2023-10-25', '$1 = Rp15,881'),\n",
       " ('2023-10-24', '$1 = Rp15,869'),\n",
       " ('2023-10-23', '$1 = Rp15,897'),\n",
       " ('2023-10-20', '$1 = Rp15,879'),\n",
       " ('2023-10-19', '$1 = Rp15,864'),\n",
       " ('2023-10-18', '$1 = Rp15,824'),\n",
       " ('2023-10-17', '$1 = Rp15,730'),\n",
       " ('2023-10-16', '$1 = Rp15,676'),\n",
       " ('2023-10-13', '$1 = Rp15,703'),\n",
       " ('2023-10-12', '$1 = Rp15,750'),\n",
       " ('2023-10-11', '$1 = Rp15,700'),\n",
       " ('2023-10-10', '$1 = Rp15,716'),\n",
       " ('2023-10-9', '$1 = Rp15,705'),\n",
       " ('2023-10-6', '$1 = Rp15,648'),\n",
       " ('2023-10-5', '$1 = Rp15,636'),\n",
       " ('2023-10-4', '$1 = Rp15,596'),\n",
       " ('2023-10-3', '$1 = Rp15,620'),\n",
       " ('2023-10-2', '$1 = Rp15,538'),\n",
       " ('2023-9-29', '$1 = Rp15,493'),\n",
       " ('2023-9-28', '$1 = Rp15,473'),\n",
       " ('2023-9-27', '$1 = Rp15,573'),\n",
       " ('2023-9-26', '$1 = Rp15,493'),\n",
       " ('2023-9-25', '$1 = Rp15,412'),\n",
       " ('2023-9-22', '$1 = Rp15,357'),\n",
       " ('2023-9-21', '$1 = Rp15,408'),\n",
       " ('2023-9-20', '$1 = Rp15,368'),\n",
       " ('2023-9-19', '$1 = Rp15,382'),\n",
       " ('2023-9-18', '$1 = Rp15,373'),\n",
       " ('2023-9-15', '$1 = Rp15,367'),\n",
       " ('2023-9-14', '$1 = Rp15,402'),\n",
       " ('2023-9-13', '$1 = Rp15,361'),\n",
       " ('2023-9-12', '$1 = Rp15,358'),\n",
       " ('2023-9-11', '$1 = Rp15,348'),\n",
       " ('2023-9-8', '$1 = Rp15,382'),\n",
       " ('2023-9-7', '$1 = Rp15,361'),\n",
       " ('2023-9-6', '$1 = Rp15,340'),\n",
       " ('2023-9-5', '$1 = Rp15,320'),\n",
       " ('2023-9-4', '$1 = Rp15,230'),\n",
       " ('2023-9-1', '$1 = Rp15,258'),\n",
       " ('2023-8-31', '$1 = Rp15,225'),\n",
       " ('2023-8-30', '$1 = Rp15,223'),\n",
       " ('2023-8-29', '$1 = Rp15,202'),\n",
       " ('2023-8-28', '$1 = Rp15,248'),\n",
       " ('2023-8-25', '$1 = Rp15,298'),\n",
       " ('2023-8-24', '$1 = Rp15,246'),\n",
       " ('2023-8-23', '$1 = Rp15,301'),\n",
       " ('2023-8-22', '$1 = Rp15,324'),\n",
       " ('2023-8-21', '$1 = Rp15,325'),\n",
       " ('2023-8-18', '$1 = Rp15,321'),\n",
       " ('2023-8-17', '$1 = Rp15,343'),\n",
       " ('2023-8-16', '$1 = Rp15,369'),\n",
       " ('2023-8-15', '$1 = Rp15,318'),\n",
       " ('2023-8-14', '$1 = Rp15,330'),\n",
       " ('2023-8-11', '$1 = Rp15,324'),\n",
       " ('2023-8-10', '$1 = Rp15,263'),\n",
       " ('2023-8-9', '$1 = Rp15,214'),\n",
       " ('2023-8-8', '$1 = Rp15,212'),\n",
       " ('2023-8-7', '$1 = Rp15,225'),\n",
       " ('2023-8-4', '$1 = Rp15,153'),\n",
       " ('2023-8-3', '$1 = Rp15,148'),\n",
       " ('2023-8-2', '$1 = Rp15,227'),\n",
       " ('2023-8-1', '$1 = Rp15,121'),\n",
       " ('2023-7-31', '$1 = Rp15,099'),\n",
       " ('2023-7-28', '$1 = Rp15,107'),\n",
       " ('2023-7-27', '$1 = Rp15,102'),\n",
       " ('2023-7-26', '$1 = Rp15,009'),\n",
       " ('2023-7-25', '$1 = Rp15,027'),\n",
       " ('2023-7-24', '$1 = Rp15,022'),\n",
       " ('2023-7-21', '$1 = Rp15,043'),\n",
       " ('2023-7-20', '$1 = Rp15,056'),\n",
       " ('2023-7-19', '$1 = Rp15,009'),\n",
       " ('2023-7-18', '$1 = Rp14,989'),\n",
       " ('2023-7-17', '$1 = Rp14,972'),\n",
       " ('2023-7-14', '$1 = Rp15,003'),\n",
       " ('2023-7-13', '$1 = Rp14,954'),\n",
       " ('2023-7-12', '$1 = Rp14,935'),\n",
       " ('2023-7-11', '$1 = Rp15,140'),\n",
       " ('2023-7-10', '$1 = Rp15,187'),\n",
       " ('2023-7-7', '$1 = Rp15,162'),\n",
       " ('2023-7-6', '$1 = Rp15,178'),\n",
       " ('2023-7-5', '$1 = Rp15,078'),\n",
       " ('2023-7-4', '$1 = Rp15,020'),\n",
       " ('2023-7-3', '$1 = Rp15,063'),\n",
       " ('2023-6-30', '$1 = Rp15,040'),\n",
       " ('2023-6-29', '$1 = Rp15,059'),\n",
       " ('2023-6-28', '$1 = Rp14,985'),\n",
       " ('2023-6-27', '$1 = Rp14,988'),\n",
       " ('2023-6-26', '$1 = Rp15,045'),\n",
       " ('2023-6-23', '$1 = Rp15,045'),\n",
       " ('2023-6-22', '$1 = Rp14,939'),\n",
       " ('2023-6-21', '$1 = Rp14,945'),\n",
       " ('2023-6-20', '$1 = Rp15,015'),\n",
       " ('2023-6-19', '$1 = Rp15,014')]"
      ]
     },
     "execution_count": 22,
     "metadata": {},
     "output_type": "execute_result"
    }
   ],
   "source": [
    "temp = [] #initiating a tuple\n",
    "\n",
    "for i in range(0, row_length):\n",
    "\n",
    "    #scrapping process\n",
    "    #get tanggal \n",
    "   tanggal = table.find_all('a', attrs={'class':'n'})[i].text\n",
    "    \n",
    "    #get kurs\n",
    "   kurs = table.find_all('span', attrs={'class':'w'})[i].text\n",
    "       \n",
    "   temp.append((tanggal, kurs))\n",
    "    \n",
    "temp "
   ]
  },
  {
   "cell_type": "code",
   "execution_count": 23,
   "metadata": {},
   "outputs": [
    {
     "data": {
      "text/plain": [
       "[('2023-6-19', '$1 = Rp15,014'),\n",
       " ('2023-6-20', '$1 = Rp15,015'),\n",
       " ('2023-6-21', '$1 = Rp14,945'),\n",
       " ('2023-6-22', '$1 = Rp14,939'),\n",
       " ('2023-6-23', '$1 = Rp15,045'),\n",
       " ('2023-6-26', '$1 = Rp15,045'),\n",
       " ('2023-6-27', '$1 = Rp14,988'),\n",
       " ('2023-6-28', '$1 = Rp14,985'),\n",
       " ('2023-6-29', '$1 = Rp15,059'),\n",
       " ('2023-6-30', '$1 = Rp15,040'),\n",
       " ('2023-7-3', '$1 = Rp15,063'),\n",
       " ('2023-7-4', '$1 = Rp15,020'),\n",
       " ('2023-7-5', '$1 = Rp15,078'),\n",
       " ('2023-7-6', '$1 = Rp15,178'),\n",
       " ('2023-7-7', '$1 = Rp15,162'),\n",
       " ('2023-7-10', '$1 = Rp15,187'),\n",
       " ('2023-7-11', '$1 = Rp15,140'),\n",
       " ('2023-7-12', '$1 = Rp14,935'),\n",
       " ('2023-7-13', '$1 = Rp14,954'),\n",
       " ('2023-7-14', '$1 = Rp15,003'),\n",
       " ('2023-7-17', '$1 = Rp14,972'),\n",
       " ('2023-7-18', '$1 = Rp14,989'),\n",
       " ('2023-7-19', '$1 = Rp15,009'),\n",
       " ('2023-7-20', '$1 = Rp15,056'),\n",
       " ('2023-7-21', '$1 = Rp15,043'),\n",
       " ('2023-7-24', '$1 = Rp15,022'),\n",
       " ('2023-7-25', '$1 = Rp15,027'),\n",
       " ('2023-7-26', '$1 = Rp15,009'),\n",
       " ('2023-7-27', '$1 = Rp15,102'),\n",
       " ('2023-7-28', '$1 = Rp15,107'),\n",
       " ('2023-7-31', '$1 = Rp15,099'),\n",
       " ('2023-8-1', '$1 = Rp15,121'),\n",
       " ('2023-8-2', '$1 = Rp15,227'),\n",
       " ('2023-8-3', '$1 = Rp15,148'),\n",
       " ('2023-8-4', '$1 = Rp15,153'),\n",
       " ('2023-8-7', '$1 = Rp15,225'),\n",
       " ('2023-8-8', '$1 = Rp15,212'),\n",
       " ('2023-8-9', '$1 = Rp15,214'),\n",
       " ('2023-8-10', '$1 = Rp15,263'),\n",
       " ('2023-8-11', '$1 = Rp15,324'),\n",
       " ('2023-8-14', '$1 = Rp15,330'),\n",
       " ('2023-8-15', '$1 = Rp15,318'),\n",
       " ('2023-8-16', '$1 = Rp15,369'),\n",
       " ('2023-8-17', '$1 = Rp15,343'),\n",
       " ('2023-8-18', '$1 = Rp15,321'),\n",
       " ('2023-8-21', '$1 = Rp15,325'),\n",
       " ('2023-8-22', '$1 = Rp15,324'),\n",
       " ('2023-8-23', '$1 = Rp15,301'),\n",
       " ('2023-8-24', '$1 = Rp15,246'),\n",
       " ('2023-8-25', '$1 = Rp15,298'),\n",
       " ('2023-8-28', '$1 = Rp15,248'),\n",
       " ('2023-8-29', '$1 = Rp15,202'),\n",
       " ('2023-8-30', '$1 = Rp15,223'),\n",
       " ('2023-8-31', '$1 = Rp15,225'),\n",
       " ('2023-9-1', '$1 = Rp15,258'),\n",
       " ('2023-9-4', '$1 = Rp15,230'),\n",
       " ('2023-9-5', '$1 = Rp15,320'),\n",
       " ('2023-9-6', '$1 = Rp15,340'),\n",
       " ('2023-9-7', '$1 = Rp15,361'),\n",
       " ('2023-9-8', '$1 = Rp15,382'),\n",
       " ('2023-9-11', '$1 = Rp15,348'),\n",
       " ('2023-9-12', '$1 = Rp15,358'),\n",
       " ('2023-9-13', '$1 = Rp15,361'),\n",
       " ('2023-9-14', '$1 = Rp15,402'),\n",
       " ('2023-9-15', '$1 = Rp15,367'),\n",
       " ('2023-9-18', '$1 = Rp15,373'),\n",
       " ('2023-9-19', '$1 = Rp15,382'),\n",
       " ('2023-9-20', '$1 = Rp15,368'),\n",
       " ('2023-9-21', '$1 = Rp15,408'),\n",
       " ('2023-9-22', '$1 = Rp15,357'),\n",
       " ('2023-9-25', '$1 = Rp15,412'),\n",
       " ('2023-9-26', '$1 = Rp15,493'),\n",
       " ('2023-9-27', '$1 = Rp15,573'),\n",
       " ('2023-9-28', '$1 = Rp15,473'),\n",
       " ('2023-9-29', '$1 = Rp15,493'),\n",
       " ('2023-10-2', '$1 = Rp15,538'),\n",
       " ('2023-10-3', '$1 = Rp15,620'),\n",
       " ('2023-10-4', '$1 = Rp15,596'),\n",
       " ('2023-10-5', '$1 = Rp15,636'),\n",
       " ('2023-10-6', '$1 = Rp15,648'),\n",
       " ('2023-10-9', '$1 = Rp15,705'),\n",
       " ('2023-10-10', '$1 = Rp15,716'),\n",
       " ('2023-10-11', '$1 = Rp15,700'),\n",
       " ('2023-10-12', '$1 = Rp15,750'),\n",
       " ('2023-10-13', '$1 = Rp15,703'),\n",
       " ('2023-10-16', '$1 = Rp15,676'),\n",
       " ('2023-10-17', '$1 = Rp15,730'),\n",
       " ('2023-10-18', '$1 = Rp15,824'),\n",
       " ('2023-10-19', '$1 = Rp15,864'),\n",
       " ('2023-10-20', '$1 = Rp15,879'),\n",
       " ('2023-10-23', '$1 = Rp15,897'),\n",
       " ('2023-10-24', '$1 = Rp15,869'),\n",
       " ('2023-10-25', '$1 = Rp15,881'),\n",
       " ('2023-10-26', '$1 = Rp15,927'),\n",
       " ('2023-10-27', '$1 = Rp15,911'),\n",
       " ('2023-10-30', '$1 = Rp15,854'),\n",
       " ('2023-10-31', '$1 = Rp15,919'),\n",
       " ('2023-11-1', '$1 = Rp15,899'),\n",
       " ('2023-11-2', '$1 = Rp15,852'),\n",
       " ('2023-11-3', '$1 = Rp15,589'),\n",
       " ('2023-11-6', '$1 = Rp15,577'),\n",
       " ('2023-11-7', '$1 = Rp15,651'),\n",
       " ('2023-11-8', '$1 = Rp15,625'),\n",
       " ('2023-11-9', '$1 = Rp15,715'),\n",
       " ('2023-11-10', '$1 = Rp15,694'),\n",
       " ('2023-11-13', '$1 = Rp15,683'),\n",
       " ('2023-11-14', '$1 = Rp15,459'),\n",
       " ('2023-11-15', '$1 = Rp15,519'),\n",
       " ('2023-11-16', '$1 = Rp15,484'),\n",
       " ('2023-11-17', '$1 = Rp15,424'),\n",
       " ('2023-11-20', '$1 = Rp15,389'),\n",
       " ('2023-11-21', '$1 = Rp15,517'),\n",
       " ('2023-11-22', '$1 = Rp15,656'),\n",
       " ('2023-11-23', '$1 = Rp15,633'),\n",
       " ('2023-11-24', '$1 = Rp15,540'),\n",
       " ('2023-11-27', '$1 = Rp15,505'),\n",
       " ('2023-11-28', '$1 = Rp15,352'),\n",
       " ('2023-11-29', '$1 = Rp15,459'),\n",
       " ('2023-11-30', '$1 = Rp15,559'),\n",
       " ('2023-12-1', '$1 = Rp15,413'),\n",
       " ('2023-12-4', '$1 = Rp15,485'),\n",
       " ('2023-12-5', '$1 = Rp15,463'),\n",
       " ('2023-12-6', '$1 = Rp15,514'),\n",
       " ('2023-12-7', '$1 = Rp15,507'),\n",
       " ('2023-12-8', '$1 = Rp15,573'),\n",
       " ('2023-12-11', '$1 = Rp15,653'),\n",
       " ('2023-12-12', '$1 = Rp15,576'),\n",
       " ('2023-12-13', '$1 = Rp15,360'),\n",
       " ('2023-12-14', '$1 = Rp15,476'),\n",
       " ('2023-12-15', '$1 = Rp15,529')]"
      ]
     },
     "execution_count": 23,
     "metadata": {},
     "output_type": "execute_result"
    }
   ],
   "source": [
    "temp = temp[::-1]\n",
    "temp"
   ]
  },
  {
   "cell_type": "markdown",
   "metadata": {},
   "source": [
    "## Creating data frame & Data wrangling"
   ]
  },
  {
   "cell_type": "markdown",
   "metadata": {},
   "source": [
    "Put the array into dataframe"
   ]
  },
  {
   "cell_type": "code",
   "execution_count": 24,
   "metadata": {
    "ExecuteTime": {
     "end_time": "2020-01-13T05:12:41.517372Z",
     "start_time": "2020-01-13T05:12:29.130015Z"
    }
   },
   "outputs": [
    {
     "data": {
      "text/html": [
       "<div>\n",
       "<style scoped>\n",
       "    .dataframe tbody tr th:only-of-type {\n",
       "        vertical-align: middle;\n",
       "    }\n",
       "\n",
       "    .dataframe tbody tr th {\n",
       "        vertical-align: top;\n",
       "    }\n",
       "\n",
       "    .dataframe thead th {\n",
       "        text-align: right;\n",
       "    }\n",
       "</style>\n",
       "<table border=\"1\" class=\"dataframe\">\n",
       "  <thead>\n",
       "    <tr style=\"text-align: right;\">\n",
       "      <th></th>\n",
       "      <th>tanggal</th>\n",
       "      <th>kurs</th>\n",
       "    </tr>\n",
       "  </thead>\n",
       "  <tbody>\n",
       "    <tr>\n",
       "      <th>0</th>\n",
       "      <td>2023-6-19</td>\n",
       "      <td>$1 = Rp15,014</td>\n",
       "    </tr>\n",
       "    <tr>\n",
       "      <th>1</th>\n",
       "      <td>2023-6-20</td>\n",
       "      <td>$1 = Rp15,015</td>\n",
       "    </tr>\n",
       "    <tr>\n",
       "      <th>2</th>\n",
       "      <td>2023-6-21</td>\n",
       "      <td>$1 = Rp14,945</td>\n",
       "    </tr>\n",
       "    <tr>\n",
       "      <th>3</th>\n",
       "      <td>2023-6-22</td>\n",
       "      <td>$1 = Rp14,939</td>\n",
       "    </tr>\n",
       "    <tr>\n",
       "      <th>4</th>\n",
       "      <td>2023-6-23</td>\n",
       "      <td>$1 = Rp15,045</td>\n",
       "    </tr>\n",
       "  </tbody>\n",
       "</table>\n",
       "</div>"
      ],
      "text/plain": [
       "     tanggal           kurs\n",
       "0  2023-6-19  $1 = Rp15,014\n",
       "1  2023-6-20  $1 = Rp15,015\n",
       "2  2023-6-21  $1 = Rp14,945\n",
       "3  2023-6-22  $1 = Rp14,939\n",
       "4  2023-6-23  $1 = Rp15,045"
      ]
     },
     "execution_count": 24,
     "metadata": {},
     "output_type": "execute_result"
    }
   ],
   "source": [
    "import pandas as pd\n",
    "\n",
    "inflation_rate = pd.DataFrame(temp, columns=('tanggal', 'kurs'))\n",
    "inflation_rate.head()"
   ]
  },
  {
   "cell_type": "markdown",
   "metadata": {},
   "source": [
    "Do the data cleaning here.\n",
    "\n",
    "Untuk data cleaning ini, dilakukan beberapa hal yaitu sebagai berikut:\n",
    "- Mengambil 6 karakter str paling kanan dari kolom `kurs` dengan menggunakan method `.str[]`.\n",
    "- Menghilangkan karakter koma (`,`) dari kolom `kurs` dengan menggunakan method `.str.replace()`.\n",
    "- Mengganti tipe data yaitu kolom `tanggal` menjadi datetime64[ns] dan kolom `kurs` menjadi `float`.\n",
    "- Melakukan setting index pada tabel `inflation_rate` menggunakan eksisting kolom `tanggal`"
   ]
  },
  {
   "cell_type": "code",
   "execution_count": 25,
   "metadata": {
    "ExecuteTime": {
     "end_time": "2020-01-13T05:12:59.165559Z",
     "start_time": "2020-01-13T05:12:58.910012Z"
    }
   },
   "outputs": [
    {
     "data": {
      "text/html": [
       "<div>\n",
       "<style scoped>\n",
       "    .dataframe tbody tr th:only-of-type {\n",
       "        vertical-align: middle;\n",
       "    }\n",
       "\n",
       "    .dataframe tbody tr th {\n",
       "        vertical-align: top;\n",
       "    }\n",
       "\n",
       "    .dataframe thead th {\n",
       "        text-align: right;\n",
       "    }\n",
       "</style>\n",
       "<table border=\"1\" class=\"dataframe\">\n",
       "  <thead>\n",
       "    <tr style=\"text-align: right;\">\n",
       "      <th></th>\n",
       "      <th>tanggal</th>\n",
       "      <th>kurs</th>\n",
       "    </tr>\n",
       "  </thead>\n",
       "  <tbody>\n",
       "    <tr>\n",
       "      <th>0</th>\n",
       "      <td>2023-6-19</td>\n",
       "      <td>15014</td>\n",
       "    </tr>\n",
       "    <tr>\n",
       "      <th>1</th>\n",
       "      <td>2023-6-20</td>\n",
       "      <td>15015</td>\n",
       "    </tr>\n",
       "    <tr>\n",
       "      <th>2</th>\n",
       "      <td>2023-6-21</td>\n",
       "      <td>14945</td>\n",
       "    </tr>\n",
       "    <tr>\n",
       "      <th>3</th>\n",
       "      <td>2023-6-22</td>\n",
       "      <td>14939</td>\n",
       "    </tr>\n",
       "    <tr>\n",
       "      <th>4</th>\n",
       "      <td>2023-6-23</td>\n",
       "      <td>15045</td>\n",
       "    </tr>\n",
       "  </tbody>\n",
       "</table>\n",
       "</div>"
      ],
      "text/plain": [
       "     tanggal   kurs\n",
       "0  2023-6-19  15014\n",
       "1  2023-6-20  15015\n",
       "2  2023-6-21  14945\n",
       "3  2023-6-22  14939\n",
       "4  2023-6-23  15045"
      ]
     },
     "execution_count": 25,
     "metadata": {},
     "output_type": "execute_result"
    }
   ],
   "source": [
    "inflation_rate['kurs'] = inflation_rate['kurs'].str[-6:]\n",
    "inflation_rate['kurs'] = inflation_rate['kurs'].str.replace(',', '')\n",
    "inflation_rate.head()\n"
   ]
  },
  {
   "cell_type": "code",
   "execution_count": 26,
   "metadata": {},
   "outputs": [
    {
     "data": {
      "text/plain": [
       "tanggal    datetime64[ns]\n",
       "kurs              float64\n",
       "dtype: object"
      ]
     },
     "execution_count": 26,
     "metadata": {},
     "output_type": "execute_result"
    }
   ],
   "source": [
    "inflation_rate['tanggal'] = inflation_rate['tanggal'].astype('datetime64[ns]')\n",
    "inflation_rate['kurs'] = inflation_rate['kurs'].astype('float64')\n",
    "inflation_rate.dtypes"
   ]
  },
  {
   "cell_type": "code",
   "execution_count": 27,
   "metadata": {},
   "outputs": [
    {
     "data": {
      "text/html": [
       "<div>\n",
       "<style scoped>\n",
       "    .dataframe tbody tr th:only-of-type {\n",
       "        vertical-align: middle;\n",
       "    }\n",
       "\n",
       "    .dataframe tbody tr th {\n",
       "        vertical-align: top;\n",
       "    }\n",
       "\n",
       "    .dataframe thead th {\n",
       "        text-align: right;\n",
       "    }\n",
       "</style>\n",
       "<table border=\"1\" class=\"dataframe\">\n",
       "  <thead>\n",
       "    <tr style=\"text-align: right;\">\n",
       "      <th></th>\n",
       "      <th>kurs</th>\n",
       "    </tr>\n",
       "    <tr>\n",
       "      <th>tanggal</th>\n",
       "      <th></th>\n",
       "    </tr>\n",
       "  </thead>\n",
       "  <tbody>\n",
       "    <tr>\n",
       "      <th>2023-12-11</th>\n",
       "      <td>15653.0</td>\n",
       "    </tr>\n",
       "    <tr>\n",
       "      <th>2023-12-12</th>\n",
       "      <td>15576.0</td>\n",
       "    </tr>\n",
       "    <tr>\n",
       "      <th>2023-12-13</th>\n",
       "      <td>15360.0</td>\n",
       "    </tr>\n",
       "    <tr>\n",
       "      <th>2023-12-14</th>\n",
       "      <td>15476.0</td>\n",
       "    </tr>\n",
       "    <tr>\n",
       "      <th>2023-12-15</th>\n",
       "      <td>15529.0</td>\n",
       "    </tr>\n",
       "  </tbody>\n",
       "</table>\n",
       "</div>"
      ],
      "text/plain": [
       "               kurs\n",
       "tanggal            \n",
       "2023-12-11  15653.0\n",
       "2023-12-12  15576.0\n",
       "2023-12-13  15360.0\n",
       "2023-12-14  15476.0\n",
       "2023-12-15  15529.0"
      ]
     },
     "execution_count": 27,
     "metadata": {},
     "output_type": "execute_result"
    }
   ],
   "source": [
    "inflation_rate = inflation_rate.set_index('tanggal')\n",
    "inflation_rate.tail()"
   ]
  },
  {
   "cell_type": "markdown",
   "metadata": {},
   "source": [
    "### Data visualisation \n",
    "\n",
    "Data yang diambil dari webscrapping merupakan data time-series dimana data kurs $ ke Rp di-update setiap hari. oleh karena itu, visualisasi yang menggambarkan time-series ini yaitu diagram `line` dimana untuk fungsi dari `.plot()` secara default merupakan diagram line."
   ]
  },
  {
   "cell_type": "code",
   "execution_count": 28,
   "metadata": {},
   "outputs": [
    {
     "data": {
      "image/png": "[encoded data removed]",
      "text/plain": [
       "<Figure size 640x480 with 1 Axes>"
      ]
     },
     "metadata": {},
     "output_type": "display_data"
    }
   ],
   "source": [
    "inflation_rate.plot();"
   ]
  },
  {
   "cell_type": "markdown",
   "metadata": {},
   "source": [
    "### Implementing your webscrapping to the flask dashboard\n",
    "\n",
    "- Copy paste all of your web scrapping process to the desired position on the `app.py`\n",
    "- Changing the title of the dasboard at `index.html`"
   ]
  },
  {
   "cell_type": "markdown",
   "metadata": {},
   "source": [
    "## Finishing This Notebook with Your Analysis and Conclusion\n",
    "\n",
    "First you can do start with making the data visualisation. "
   ]
  },
  {
   "cell_type": "markdown",
   "metadata": {},
   "source": [
    "Dari visualisasi grafik di atas, dapat di-highlight beberapa hal sebagai berikut:\n",
    "- Kurs secara umum cenderung mengalamai kenaikan untuk periode Juli s.d. Desember 2023.\n",
    "- Kurs pada awal bulan Juli 2023 merupakan kurs $ yang paling rendah. \n",
    "- Kurs pada awal bulan November 2023 merupakan kenaikan kurs $ yang paling tinggi. \n",
    "- Kurs pada bulan November 2023 ke Desember 2o23 mengalami penurunan"
   ]
  },
  {
   "cell_type": "markdown",
   "metadata": {},
   "source": [
    "### KESIMPULAN\n",
    "\n",
    "Dangan menggunakan library `BeautifulSoap`, kita dapat mengambil data kurs, yang berasal dari situs https://www.exchange-rates.org/history/IDR/USD/T, untuk periode dari Bulan Juli 2023 s.d. Desember 2023. Setelah data webscrapping ini menjadi dataframe, perlu dilakukan cleaning dan wrangling sehingga dapat dianalisis lebih lanjut menggunakan pandas. Kemudian dataframe ini kita lakukan visualiasasi menggunakan `plot` sehingga didapat grafik time-series perubahan kurs terhadap periode tertentu."
   ]
  },
  {
   "cell_type": "markdown",
   "metadata": {},
   "source": [
    "### Implement it at the webapps\n",
    "\n",
    "- You can create additional analysis from the data.\n",
    "- Implement it to the dashboard with at `app.py` dan `index.html`."
   ]
  }
 ],
 "metadata": {
  "kernelspec": {
   "display_name": "caps_da",
   "language": "python",
   "name": "python3"
  },
  "language_info": {
   "codemirror_mode": {
    "name": "ipython",
    "version": 3
   },
   "file_extension": ".py",
   "mimetype": "text/x-python",
   "name": "python",
   "nbconvert_exporter": "python",
   "pygments_lexer": "ipython3",
   "version": "3.10.13"
  }
 },
 "nbformat": 4,
 "nbformat_minor": 2
}
